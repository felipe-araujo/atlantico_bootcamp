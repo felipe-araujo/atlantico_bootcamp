{
 "cells": [
  {
   "cell_type": "code",
   "execution_count": 1,
   "id": "22d0af27",
   "metadata": {},
   "outputs": [],
   "source": [
    "import cv2"
   ]
  },
  {
   "cell_type": "code",
   "execution_count": 2,
   "id": "c4341cb0",
   "metadata": {},
   "outputs": [],
   "source": [
    "image = cv2.imread('../data/bridge.png')"
   ]
  },
  {
   "cell_type": "code",
   "execution_count": 3,
   "id": "b309b7a7",
   "metadata": {},
   "outputs": [],
   "source": [
    "(b, g, r) = image[0, 0] #note the order: BGR, not RGB "
   ]
  },
  {
   "cell_type": "code",
   "execution_count": 4,
   "id": "e658439f",
   "metadata": {},
   "outputs": [
    {
     "name": "stdout",
     "output_type": "stream",
     "text": [
      "Pixel (0, 0) has following colors:\n",
      "Red: 255 Green: 255 Blue: 255\n"
     ]
    }
   ],
   "source": [
    "print('Pixel (0, 0) has following colors:') \n",
    "print('Red:', r, 'Green:', g, 'Blue:', b)  "
   ]
  },
  {
   "cell_type": "code",
   "execution_count": 5,
   "id": "ce698321",
   "metadata": {},
   "outputs": [],
   "source": [
    "# replaces all pixels with blue ones\n",
    "for y in range(0, image.shape[0]):\n",
    "    for x in range(0, image.shape[1]):\n",
    "        image[y, x] = (255,0,0)\n",
    "    \n",
    "cv2.imshow(\"Modified image\", image)\n",
    "cv2.waitKey(0)\n",
    "cv2.destroyAllWindows()"
   ]
  },
  {
   "cell_type": "code",
   "execution_count": 8,
   "id": "b3f06d93",
   "metadata": {},
   "outputs": [],
   "source": [
    "image = cv2.imread('../data/bridge.png')\n",
    "\n",
    "for y in range(0, image.shape[0], 10): # rows\n",
    "    for x in range(0, image.shape[1], 10): # columns\n",
    "        image[y:y+5, x: x+5] = (0,255,255)\n",
    "cv2.imshow(\"Modified image\", image) \n",
    "cv2.waitKey(0)  \n",
    "cv2.destroyAllWindows()"
   ]
  },
  {
   "cell_type": "markdown",
   "id": "de09d4c7",
   "metadata": {},
   "source": [
    "## Image crop"
   ]
  },
  {
   "cell_type": "code",
   "execution_count": 10,
   "id": "dbbcc4e7",
   "metadata": {},
   "outputs": [],
   "source": [
    "image = cv2.imread('../data/bridge.png')\n",
    "crop = image[100:200, 100:200]\n",
    "cv2.imshow(\"Cropped image\", crop)\n",
    "cv2.waitKey(0)  \n",
    "cv2.destroyAllWindows()"
   ]
  },
  {
   "cell_type": "markdown",
   "id": "0a273cb0",
   "metadata": {},
   "source": [
    "## Image resize"
   ]
  },
  {
   "cell_type": "code",
   "execution_count": 12,
   "id": "59dd3738",
   "metadata": {},
   "outputs": [],
   "source": [
    "import numpy as np"
   ]
  },
  {
   "cell_type": "code",
   "execution_count": 14,
   "id": "5d8f8ada",
   "metadata": {},
   "outputs": [],
   "source": [
    "img = cv2.imread('../data/bridge.png')"
   ]
  },
  {
   "cell_type": "code",
   "execution_count": 15,
   "id": "f02c6d05",
   "metadata": {},
   "outputs": [],
   "source": [
    "width = img.shape[1]\n",
    "height = img.shape[0]\n",
    "ratio = float(height/width)"
   ]
  },
  {
   "cell_type": "code",
   "execution_count": 19,
   "id": "f1531e8e",
   "metadata": {},
   "outputs": [],
   "source": [
    "new_width = 320 # pixels\n",
    "new_height = int(new_width * ratio)\n",
    "new_size = (new_width, new_height)\n",
    "resized_img = cv2.resize(img, new_size, interpolation = cv2.INTER_AREA)\n",
    "cv2.imshow(\"Resized image\", resized_img)\n",
    "cv2.waitKey(0)  \n",
    "cv2.destroyAllWindows()"
   ]
  },
  {
   "cell_type": "raw",
   "id": "9fda441b",
   "metadata": {},
   "source": []
  }
 ],
 "metadata": {
  "kernelspec": {
   "display_name": "Python 3 (ipykernel)",
   "language": "python",
   "name": "python3"
  },
  "language_info": {
   "codemirror_mode": {
    "name": "ipython",
    "version": 3
   },
   "file_extension": ".py",
   "mimetype": "text/x-python",
   "name": "python",
   "nbconvert_exporter": "python",
   "pygments_lexer": "ipython3",
   "version": "3.8.10"
  }
 },
 "nbformat": 4,
 "nbformat_minor": 5
}
